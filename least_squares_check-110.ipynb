{
 "cells": [
  {
   "cell_type": "code",
   "execution_count": 1,
   "metadata": {},
   "outputs": [
    {
     "ename": "SyntaxError",
     "evalue": "invalid syntax (<ipython-input-1-bf0b07fbbcaf>, line 17)",
     "output_type": "error",
     "traceback": [
      "\u001b[0;36m  File \u001b[0;32m\"<ipython-input-1-bf0b07fbbcaf>\"\u001b[0;36m, line \u001b[0;32m17\u001b[0m\n\u001b[0;31m    step_size_init_val = 1e9.\u001b[0m\n\u001b[0m                             ^\u001b[0m\n\u001b[0;31mSyntaxError\u001b[0m\u001b[0;31m:\u001b[0m invalid syntax\n"
     ]
    }
   ],
   "source": [
    "import numpy as np \n",
    "import torch \n",
    "from torch.utils.data import Dataset\n",
    "from simulator import FSE_signal_TR\n",
    "from tqdm import tqdm \n",
    "from matplotlib import pyplot as plt \n",
    "\n",
    "T = 32 \n",
    "TE = 9 \n",
    "TR = 2800\n",
    "T2_init = 200.\n",
    "device = torch.device('cuda')\n",
    "dtype = torch.float32\n",
    "batch_size = 1\n",
    "num_epochs = 500\n",
    "that_hat_init_angle = 125.\n",
    "step_size_init_val = 10000."
   ]
  },
  {
   "cell_type": "code",
   "execution_count": null,
   "metadata": {},
   "outputs": [],
   "source": [
    "def pbnet(y_meas, theta_hat, step_size, TE, TR, T1, testFlag=True):\n",
    "    myt2 = torch.ones((batch_size), dtype=torch.float32, requires_grad=True, device=theta_hat.device)*T2_init\n",
    "    if testFlag: y_meas = y_meas.detach()\n",
    "    plt.plot(y_meas.cpu().numpy());\n",
    "    sig_est = None \n",
    "    loss = None\n",
    "    for kk in range(num_epochs):\n",
    "        sig_est = FSE_signal_TR(theta_hat, TE, TR, T1, myt2, B1=1.).squeeze()\n",
    "        rho_est = torch.sum(y_meas * sig_est) / torch.sum(sig_est * sig_est)\n",
    "        sig_est = rho_est * sig_est\n",
    "        residual = y_meas - sig_est\n",
    "        loss = torch.sum(residual**2)\n",
    "        \n",
    "        g = torch.autograd.grad(loss, \n",
    "                                myt2, \n",
    "                                create_graph = not testFlag)[0]\n",
    "        \n",
    "        myt2 = myt2 - step_size*g           # gradient update\n",
    "#         print(loss, myt2, g)\n",
    "    return myt2, sig_est, loss"
   ]
  },
  {
   "cell_type": "code",
   "execution_count": null,
   "metadata": {},
   "outputs": [],
   "source": [
    "brain = np.abs(np.load('data/image.npy'))\n",
    "# data = brain[144, 144, 0, :]\n",
    "data = brain[110, 110, 0, :]\n",
    "\n",
    "plt.figure()\n",
    "\n",
    "losses = []\n",
    "flip_angles = np.linspace(60, 125, 12)\n",
    "\n",
    "for that_hat_init_angle in tqdm(flip_angles):\n",
    "    final_theta = np.ones((1, T))*that_hat_init_angle\n",
    "    theta_hat_init =  torch.tensor(\n",
    "                final_theta/180*np.pi, dtype=torch.float32).to(device)\n",
    "    theta_hat = theta_hat_init.detach().clone()\n",
    "    myt2_init = torch.ones((batch_size), dtype=torch.float32, requires_grad=True, device=device)*T2_init\n",
    "\n",
    "    step_size_init = torch.tensor([step_size_init_val], dtype=torch.float32).to(device)\n",
    "    step_size = step_size_init.detach().clone()\n",
    "\n",
    "    y = torch.tensor(data, dtype=torch.float32)\n",
    "    T1 = torch.tensor(np.ones(batch_size)*1000., dtype=torch.float32)\n",
    "    myt2_0 = myt2_init.detach().clone().to(device)\n",
    "    t1 = T1.to(device)\n",
    "    y_meas = y.to(device)\n",
    "    y_meas = y_meas / torch.norm(y_meas)\n",
    "    myt2, y_est, loss = pbnet(y_meas, theta_hat, step_size, TE, TR, t1, testFlag=True)\n",
    "    losses.append(loss.detach().cpu().numpy().tolist())\n",
    "    plt.plot(y_est.detach().cpu().numpy(), linestyle='dashdot')\n",
    "plt.savefig('Fig 4a - signal-110.png', bbox_to_inches='tight')\n",
    "min_loss_idx = np.argmin(losses)\n",
    "best_flip_angle = flip_angles[min_loss_idx]\n",
    "print(best_flip_angle)"
   ]
  },
  {
   "cell_type": "code",
   "execution_count": 2,
   "metadata": {},
   "outputs": [
    {
     "ename": "NameError",
     "evalue": "name 'brain' is not defined",
     "output_type": "error",
     "traceback": [
      "\u001b[0;31m---------------------------------------------------------------------------\u001b[0m",
      "\u001b[0;31mNameError\u001b[0m                                 Traceback (most recent call last)",
      "\u001b[0;32m<ipython-input-2-01fd9a5b4459>\u001b[0m in \u001b[0;36m<module>\u001b[0;34m\u001b[0m\n\u001b[0;32m----> 1\u001b[0;31m \u001b[0my_meas\u001b[0m \u001b[0;34m=\u001b[0m \u001b[0mbrain\u001b[0m\u001b[0;34m[\u001b[0m\u001b[0;36m144\u001b[0m\u001b[0;34m,\u001b[0m \u001b[0;36m144\u001b[0m\u001b[0;34m,\u001b[0m \u001b[0;36m0\u001b[0m\u001b[0;34m,\u001b[0m \u001b[0;34m:\u001b[0m\u001b[0;34m]\u001b[0m\u001b[0;34m\u001b[0m\u001b[0;34m\u001b[0m\u001b[0m\n\u001b[0m\u001b[1;32m      2\u001b[0m \u001b[0my_meas\u001b[0m \u001b[0;34m=\u001b[0m \u001b[0my_meas\u001b[0m \u001b[0;34m/\u001b[0m \u001b[0mnp\u001b[0m\u001b[0;34m.\u001b[0m\u001b[0mlinalg\u001b[0m\u001b[0;34m.\u001b[0m\u001b[0mnorm\u001b[0m\u001b[0;34m(\u001b[0m\u001b[0my_meas\u001b[0m\u001b[0;34m)\u001b[0m\u001b[0;34m\u001b[0m\u001b[0;34m\u001b[0m\u001b[0m\n\u001b[1;32m      3\u001b[0m \u001b[0mplt\u001b[0m\u001b[0;34m.\u001b[0m\u001b[0mfigure\u001b[0m\u001b[0;34m(\u001b[0m\u001b[0;34m)\u001b[0m\u001b[0;34m\u001b[0m\u001b[0;34m\u001b[0m\u001b[0m\n\u001b[1;32m      4\u001b[0m \u001b[0mplt\u001b[0m\u001b[0;34m.\u001b[0m\u001b[0mplot\u001b[0m\u001b[0;34m(\u001b[0m\u001b[0my_meas\u001b[0m\u001b[0;34m)\u001b[0m\u001b[0;34m\u001b[0m\u001b[0;34m\u001b[0m\u001b[0m\n",
      "\u001b[0;31mNameError\u001b[0m: name 'brain' is not defined"
     ]
    }
   ],
   "source": [
    "y_meas = brain[144, 144, 0, :]\n",
    "y_meas = y_meas / np.linalg.norm(y_meas)\n",
    "plt.figure()\n",
    "plt.plot(y_meas)"
   ]
  },
  {
   "cell_type": "code",
   "execution_count": null,
   "metadata": {},
   "outputs": [],
   "source": []
  }
 ],
 "metadata": {
  "kernelspec": {
   "display_name": "Python 3",
   "language": "python",
   "name": "python3"
  },
  "language_info": {
   "codemirror_mode": {
    "name": "ipython",
    "version": 3
   },
   "file_extension": ".py",
   "mimetype": "text/x-python",
   "name": "python",
   "nbconvert_exporter": "python",
   "pygments_lexer": "ipython3",
   "version": "3.6.10"
  }
 },
 "nbformat": 4,
 "nbformat_minor": 4
}
