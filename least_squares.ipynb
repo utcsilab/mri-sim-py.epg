{
 "cells": [
  {
   "cell_type": "code",
   "execution_count": 1,
   "metadata": {},
   "outputs": [],
   "source": [
    "import numpy as np \n",
    "import torch \n",
    "from torch.utils.data import Dataset\n",
    "from simulator import FSE_signal_TR\n",
    "\n",
    "T = 32 \n",
    "TE = 9 \n",
    "TR = 2800\n",
    "device = torch.device('cuda')\n",
    "dtype = torch.float32\n",
    "batch_size = 50\n",
    "num_epochs = 150\n",
    "that_hat_init_angle = 125.\n",
    "step_size_init_val = 1."
   ]
  },
  {
   "cell_type": "code",
   "execution_count": 2,
   "metadata": {},
   "outputs": [],
   "source": [
    "class Decoder_MRIDataset(Dataset):\n",
    "    \"\"\" Decoder MRI dataset with all 180 degrees\"\"\"\n",
    "\n",
    "    # Initialize your data, download, etc.\n",
    "    def __init__(self):\n",
    "        rng = np.random.default_rng()\n",
    "        brain = np.load('data/image.npy')[:, :, 0, :].real.flatten()     \n",
    "        \n",
    "        t2 = torch.tensor(brain, dtype=torch.float32)\n",
    "        t1 = torch.tensor(np.ones(brain.shape[0])*1000., dtype=torch.float32)\n",
    "        \n",
    "        self.len = t2.shape[0]\n",
    "        self.y_data = t2\n",
    "        self.t1_data = t1\n",
    "        self.t2_data = t2\n",
    "\n",
    "    def __getitem__(self, index):\n",
    "        return self.t1_data[index], self.t2_data[index]\n",
    "\n",
    "    def __len__(self):\n",
    "        return self.len\n"
   ]
  },
  {
   "cell_type": "code",
   "execution_count": 3,
   "metadata": {},
   "outputs": [],
   "source": [
    "def pbnet(theta_hat, step_size, TE, TR, T1, T2, testFlag=True):\n",
    "    myt2 = torch.ones((batch_size), dtype=torch.float32, requires_grad=True, device=theta_hat.device)*100.\n",
    "    y_meas = FSE_signal_TR(theta_hat, TE, TR, T1, T2, B1=1.)\n",
    "    if testFlag: y_meas = y_meas.detach()\n",
    "\n",
    "    for kk in range(num_epochs):\n",
    "        y_est = FSE_signal_TR(theta_hat, TE, TR, T1, myt2, B1=1.)\n",
    "        res = y_est - y_meas\n",
    "        loss_dc = torch.sum(res**2)\n",
    "        g = torch.autograd.grad(loss_dc, \n",
    "                                myt2, \n",
    "                                create_graph = not testFlag)[0]\n",
    "        \n",
    "        myt2 = myt2 - step_size*g           # gradient update\n",
    "    return myt2"
   ]
  },
  {
   "cell_type": "code",
   "execution_count": 4,
   "metadata": {},
   "outputs": [],
   "source": [
    "dataset = Decoder_MRIDataset()\n",
    "data_loader = torch.utils.data.DataLoader(\n",
    "    dataset = dataset,\n",
    "    batch_size = batch_size,\n",
    "    num_workers = 2,\n",
    "    drop_last = False,\n",
    "    shuffle = False\n",
    ")  "
   ]
  },
  {
   "cell_type": "code",
   "execution_count": null,
   "metadata": {},
   "outputs": [],
   "source": [
    "final_theta = np.ones((1, T))*that_hat_init_angle\n",
    "theta_hat_init =  torch.tensor(\n",
    "            final_theta/180*np.pi, dtype=torch.float32).to(device)\n",
    "theta_hat = theta_hat_init.detach().clone()\n",
    "theta_hat.requires_grad = True\n",
    "\n",
    "myt2_init = torch.ones((batch_size), dtype=torch.float32, requires_grad=True, device=device)*100.\n",
    "\n",
    "step_size_init = torch.tensor([step_size_init_val], dtype=torch.float32).to(device)\n",
    "step_size = step_size_init.detach().clone()\n",
    "step_size.requires_grad = True"
   ]
  },
  {
   "cell_type": "code",
   "execution_count": null,
   "metadata": {},
   "outputs": [],
   "source": [
    "theta_hat_init.shape"
   ]
  },
  {
   "cell_type": "code",
   "execution_count": null,
   "metadata": {},
   "outputs": [],
   "source": [
    "for ff, (T1, T2) in enumerate(data_loader):\n",
    "    myt2_0 = myt2_init.detach().clone().to(device)\n",
    "    t1, t2 = T1.to(device), T2.to(device)\n",
    "    myt2 = pbnet(theta_hat, step_size, TE, TR, t1, t2,testFlag=True)\n",
    "    loss = torch.mean((myt2 - t2)**2)\n",
    "    print(t2[:5])\n",
    "    print(loss)\n",
    "    break "
   ]
  },
  {
   "cell_type": "code",
   "execution_count": null,
   "metadata": {},
   "outputs": [],
   "source": [
    "brain = np.load('data/image.npy')[:, :, 0, :].real.flatten()  "
   ]
  },
  {
   "cell_type": "code",
   "execution_count": null,
   "metadata": {},
   "outputs": [],
   "source": [
    "brain[:5]"
   ]
  }
 ],
 "metadata": {
  "kernelspec": {
   "display_name": "Python 3",
   "language": "python",
   "name": "python3"
  },
  "language_info": {
   "codemirror_mode": {
    "name": "ipython",
    "version": 3
   },
   "file_extension": ".py",
   "mimetype": "text/x-python",
   "name": "python",
   "nbconvert_exporter": "python",
   "pygments_lexer": "ipython3",
   "version": "3.6.10"
  }
 },
 "nbformat": 4,
 "nbformat_minor": 4
}
