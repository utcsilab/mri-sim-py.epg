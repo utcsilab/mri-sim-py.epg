{
 "cells": [
  {
   "cell_type": "code",
   "execution_count": 1,
   "metadata": {},
   "outputs": [],
   "source": [
    "import numpy as np \n",
    "import torch \n",
    "from torch.utils.data import Dataset\n",
    "from simulator import FSE_signal_TR\n",
    "from tqdm import tqdm \n",
    "\n",
    "T = 32 \n",
    "TE = 9 \n",
    "TR = 2800\n",
    "device = torch.device('cuda')\n",
    "dtype = torch.float32\n",
    "batch_size = 5000\n",
    "num_epochs = 150\n",
    "that_hat_init_angle = 125.\n",
    "step_size_init_val = 1."
   ]
  },
  {
   "cell_type": "code",
   "execution_count": 2,
   "metadata": {},
   "outputs": [],
   "source": [
    "class Decoder_MRIDataset(Dataset):\n",
    "    \"\"\" Decoder MRI dataset with all 180 degrees\"\"\"\n",
    "\n",
    "    # Initialize your data, download, etc.\n",
    "    def __init__(self):\n",
    "        rng = np.random.default_rng()\n",
    "        brain = np.abs(np.load('data/image.npy'))[:, :, 0, :].reshape(288*288, 32)\n",
    "        \n",
    "        self.len = brain.shape[0]\n",
    "        self.y_data = brain\n",
    "        self.t1_data = torch.tensor(np.ones(brain.shape[0])*1000., dtype=torch.float32)\n",
    "\n",
    "    def __getitem__(self, index):\n",
    "        return self.t1_data[index], self.y_data[index, :]\n",
    "\n",
    "    def __len__(self):\n",
    "        return self.len\n"
   ]
  },
  {
   "cell_type": "code",
   "execution_count": 3,
   "metadata": {},
   "outputs": [],
   "source": [
    "def pbnet(y_meas, theta_hat, step_size, TE, TR, T1, testFlag=True):\n",
    "    myt2 = torch.ones((y_meas.shape[0]), dtype=torch.float32, requires_grad=True, device=theta_hat.device)*100.\n",
    "    if testFlag: y_meas = y_meas.detach()\n",
    "\n",
    "    for kk in range(num_epochs):\n",
    "        y_est = FSE_signal_TR(theta_hat, TE, TR, T1, myt2, B1=1.).squeeze()\n",
    "        res = y_est - y_meas\n",
    "        loss_dc = torch.sum(res**2)\n",
    "        g = torch.autograd.grad(loss_dc, \n",
    "                                myt2, \n",
    "                                create_graph = not testFlag)[0]\n",
    "        \n",
    "        myt2 = myt2 - step_size*g           # gradient update\n",
    "    return myt2"
   ]
  },
  {
   "cell_type": "code",
   "execution_count": 4,
   "metadata": {},
   "outputs": [],
   "source": [
    "dataset = Decoder_MRIDataset()\n",
    "data_loader = torch.utils.data.DataLoader(\n",
    "    dataset = dataset,\n",
    "    batch_size = batch_size,\n",
    "    num_workers = 2,\n",
    "    drop_last = False,\n",
    "    shuffle = False\n",
    ")  "
   ]
  },
  {
   "cell_type": "code",
   "execution_count": 5,
   "metadata": {},
   "outputs": [],
   "source": [
    "final_theta = np.ones((1, T))*that_hat_init_angle\n",
    "theta_hat_init =  torch.tensor(\n",
    "            final_theta/180*np.pi, dtype=torch.float32).to(device)\n",
    "theta_hat = theta_hat_init.detach().clone()\n",
    "theta_hat.requires_grad = True\n",
    "\n",
    "myt2_init = torch.ones((batch_size), dtype=torch.float32, requires_grad=True, device=device)*100.\n",
    "\n",
    "step_size_init = torch.tensor([step_size_init_val], dtype=torch.float32).to(device)\n",
    "step_size = step_size_init.detach().clone()\n",
    "step_size.requires_grad = True"
   ]
  },
  {
   "cell_type": "code",
   "execution_count": 6,
   "metadata": {},
   "outputs": [
    {
     "data": {
      "text/plain": [
       "torch.Size([1, 32])"
      ]
     },
     "execution_count": 6,
     "metadata": {},
     "output_type": "execute_result"
    }
   ],
   "source": [
    "theta_hat_init.shape"
   ]
  },
  {
   "cell_type": "code",
   "execution_count": 7,
   "metadata": {},
   "outputs": [
    {
     "name": "stderr",
     "output_type": "stream",
     "text": [
      "17it [05:11, 18.31s/it]\n"
     ]
    }
   ],
   "source": [
    "for ff, (T1, y) in tqdm(enumerate(data_loader)):\n",
    "    myt2_0 = myt2_init.detach().clone().to(device)\n",
    "    t1 = T1.to(device)\n",
    "    y_meas = y.to(device) \n",
    "    myt2 = pbnet(y_meas, theta_hat, step_size, TE, TR, t1, testFlag=True)"
   ]
  },
  {
   "cell_type": "code",
   "execution_count": null,
   "metadata": {},
   "outputs": [],
   "source": []
  }
 ],
 "metadata": {
  "kernelspec": {
   "display_name": "Python 3",
   "language": "python",
   "name": "python3"
  },
  "language_info": {
   "codemirror_mode": {
    "name": "ipython",
    "version": 3
   },
   "file_extension": ".py",
   "mimetype": "text/x-python",
   "name": "python",
   "nbconvert_exporter": "python",
   "pygments_lexer": "ipython3",
   "version": "3.6.10"
  }
 },
 "nbformat": 4,
 "nbformat_minor": 4
}
